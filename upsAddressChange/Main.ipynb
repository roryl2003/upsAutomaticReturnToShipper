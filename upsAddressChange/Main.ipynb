{
 "cells": [
  {
   "cell_type": "markdown",
   "id": "6454710d",
   "metadata": {},
   "source": [
    "# Imports"
   ]
  },
  {
   "cell_type": "code",
   "execution_count": 70,
   "id": "bc7808a4",
   "metadata": {},
   "outputs": [],
   "source": [
    "from selenium import webdriver\n",
    "from selenium.webdriver.common.by import By\n",
    "from selenium.webdriver.support.ui import WebDriverWait, Select\n",
    "from selenium.webdriver.common.action_chains import ActionChains\n",
    "from selenium.webdriver.support import expected_conditions as EC\n",
    "from selenium.webdriver.common.keys import Keys\n",
    "import time"
   ]
  },
  {
   "cell_type": "markdown",
   "id": "5f8598da",
   "metadata": {},
   "source": [
    "# Code"
   ]
  },
  {
   "cell_type": "code",
   "execution_count": 69,
   "id": "30cdf869",
   "metadata": {},
   "outputs": [
    {
     "name": "stderr",
     "output_type": "stream",
     "text": [
      "<ipython-input-69-f4b4771bef46>:7: DeprecationWarning: executable_path has been deprecated, please pass in a Service object\n",
      "  driver = webdriver.Chrome(options=options, executable_path='/Users/roryliao/DadProjects/chromedriver')\n",
      "<ipython-input-69-f4b4771bef46>:72: DeprecationWarning: find_element_by_* commands are deprecated. Please use find_element() instead\n",
      "  select = Select(driver.find_element_by_id('reasonForReturn'))\n"
     ]
    }
   ],
   "source": [
    "# Settings Needed To Prevent Selenium Detection on the UPS Website\n",
    "options = webdriver.ChromeOptions()\n",
    "options.add_argument(\"start-maximized\")\n",
    "options.add_argument('--disable-blink-features=AutomationControlled')\n",
    "options.add_experimental_option(\"excludeSwitches\", [\"enable-automation\"])\n",
    "options.add_experimental_option('useAutomationExtension', False)\n",
    "driver = webdriver.Chrome(options=options, executable_path='/Users/roryliao/DadProjects/chromedriver')\n",
    "driver.execute_script(\"Object.defineProperty(navigator, 'webdriver', {get: () => undefined})\")\n",
    "driver.execute_cdp_cmd('Network.setUserAgentOverride', {\"userAgent\": 'Mozilla/5.0 (Windows NT 10.0; Win64; x64) '\n",
    "                                                                     'AppleWebKit/537.36 (KHTML, like Gecko) '\n",
    "                                                                     'Chrome/85.0.4183.102 Safari/537.36'})\n",
    "\n",
    "# Opening Link\n",
    "driver.get(\"https://www.ups.com/us/en/Home.page\")\n",
    "\n",
    "# Maximizing Window\n",
    "driver.maximize_window()\n",
    "\n",
    "# Clicking Login Button On UPS Page\n",
    "WebDriverWait(driver, timeout = 5).until(lambda d: d.find_element(by = By.CSS_SELECTOR, value = 'a.ups-cta.ups-cta-primary.ups-analytics'))\n",
    "loginButton = driver.find_element(by = By.CSS_SELECTOR, value = 'a.ups-cta.ups-cta-primary.ups-analytics')\n",
    "loginButton.click()\n",
    "\n",
    "# Finding email, password and submit buttons\n",
    "WebDriverWait(driver, timeout = 5).until(lambda d: d.find_element(by = By.ID, value = 'email'))\n",
    "email = driver.find_element(by = By.ID, value = 'email')\n",
    "pwd = driver.find_element(by = By.ID, value = 'pwd')\n",
    "login = driver.find_element(by = By.ID, value = 'submitBtn')\n",
    "\n",
    "# Adding the Right Information and Logging in\n",
    "email.send_keys('username')\n",
    "pwd.send_keys('password')\n",
    "login.click()\n",
    "\n",
    "# Inserting the Tracking Number\n",
    "WebDriverWait(driver, timeout = 5).until(lambda d: d.find_element(by = By.ID, value = 'ups-track--qs'))\n",
    "trackNum = driver.find_element(by = By.ID, value = 'ups-track--qs')\n",
    "trackNum.send_keys('trackingNumber')\n",
    "\n",
    "# Clicking the track button\n",
    "trackButton = driver.find_element(by = By.CSS_SELECTOR, value = 'button.ups-cta.ups-cta-primary.widget-btn-track')\n",
    "trackButton.click()\n",
    "\n",
    "# Sorting through tracking numbers that don't work\n",
    "try:\n",
    "    # Clicking the Change Delivery Button\n",
    "    WebDriverWait(driver, timeout = 5).until(lambda d: d.find_element(by = By.ID, value = 'stApp_userOptions_DeliveryOptionOpenModal'))\n",
    "    changeDelivery = driver.find_element(by = By.ID, value = 'stApp_userOptions_DeliveryOptionOpenModal')\n",
    "    changeDelivery.click()\n",
    "\n",
    "    # Closing the Chat\n",
    "    WebDriverWait(driver, timeout = 5).until(lambda d: d.find_element(by = By.ID, value = 'tcChat_btnCloseChat_img'))\n",
    "    chat = driver.find_element(by = By.ID, value = 'tcChat_btnCloseChat_img')\n",
    "    chat.click()\n",
    "\n",
    "    # Closing the Cookies\n",
    "    cookies = driver.find_element(by = By.CSS_SELECTOR, value = 'button.close_btn_thick')\n",
    "    cookies.click()\n",
    "\n",
    "    # Clicking the Change Location Button\n",
    "    WebDriverWait(driver, timeout = 5).until(lambda d: d.find_element(by = By.CSS_SELECTOR, value = 'button.ups-toggle_view_btn.text-center'))\n",
    "    changeLocation = driver.find_element(by = By.CSS_SELECTOR, value = 'button.ups-toggle_view_btn.text-center')\n",
    "    changeLocation.click()\n",
    "\n",
    "    # Clicing the Return to Sender Button\n",
    "    WebDriverWait(driver, timeout = 10).until(lambda d: len(d.find_elements(by = By.CSS_SELECTOR, value = 'a.ups-list_link.ups-toggle_list_link')) == 3)\n",
    "    options = driver.find_elements(by = By.CSS_SELECTOR, value = 'a.ups-list_link.ups-toggle_list_link')\n",
    "\n",
    "    # WebDriverWait(driver, timeout = 5).until(EC.element_to_be_clickable((By.CSS_SELECTOR, 'a.ups-list_link.ups-toggle_list_link')))\n",
    "    time.sleep(2)\n",
    "    options[2].click()\n",
    "\n",
    "    # Selecting Reason For Return\n",
    "    WebDriverWait(driver, timeout = 10).until(lambda d: d.find_elements(by = By.ID, value = 'reasonForReturn'))\n",
    "    select = Select(driver.find_element_by_id('reasonForReturn'))\n",
    "    select.select_by_value('AM')\n",
    "\n",
    "    # Adding Special Instructions\n",
    "    special = driver.find_element(by = By.ID, value = 'newDeliveryDateSpecialInst')\n",
    "    special.send_keys(\"return to the ship from address on the label\")\n",
    "\n",
    "    # Clicking Next Button\n",
    "    nextB = driver.find_element(by = By.CSS_SELECTOR, value = 'button.ups-cta.ups-cta_primary')\n",
    "    nextB.click()\n",
    "\n",
    "    # Clicking Next Button Again\n",
    "    time.sleep(1)\n",
    "    WebDriverWait(driver, timeout = 10).until(lambda d: d.find_elements(by = By.CSS_SELECTOR, value = 'button.ups-cta.ups-cta_primary'))\n",
    "    nextB = driver.find_element(by = By.CSS_SELECTOR, value = 'button.ups-cta.ups-cta_primary')\n",
    "    nextB.click()\n",
    "\n",
    "    # Clicking Submit Button\n",
    "    time.sleep(1)\n",
    "    WebDriverWait(driver, timeout = 10).until(lambda d: d.find_elements(by = By.CSS_SELECTOR, value = 'button.ups-cta.ups-cta_primary'))\n",
    "    nextB = driver.find_element(by = By.CSS_SELECTOR, value = 'button.ups-cta.ups-cta_primary')\n",
    "    nextB.click()\n",
    "except:\n",
    "    print(\"Not Eligable\")"
   ]
  },
  {
   "cell_type": "code",
   "execution_count": null,
   "id": "4955ba3c",
   "metadata": {},
   "outputs": [],
   "source": []
  }
 ],
 "metadata": {
  "kernelspec": {
   "display_name": "Python 3 (ipykernel)",
   "language": "python",
   "name": "python3"
  },
  "language_info": {
   "codemirror_mode": {
    "name": "ipython",
    "version": 3
   },
   "file_extension": ".py",
   "mimetype": "text/x-python",
   "name": "python",
   "nbconvert_exporter": "python",
   "pygments_lexer": "ipython3",
   "version": "3.9.6"
  }
 },
 "nbformat": 4,
 "nbformat_minor": 5
}
